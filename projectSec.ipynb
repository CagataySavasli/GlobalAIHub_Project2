{
 "cells": [
  {
   "cell_type": "code",
   "execution_count": 16,
   "id": "c4284f24",
   "metadata": {},
   "outputs": [],
   "source": [
    "import pickle\n",
    "import tensorflow as tf\n",
    "import matplotlib.pyplot as plt"
   ]
  },
  {
   "cell_type": "code",
   "execution_count": 2,
   "id": "2d99f024",
   "metadata": {},
   "outputs": [],
   "source": [
    "X_train = pickle.load(open(\"X_train.pickle\", \"rb\"))\n",
    "Y_train = pickle.load(open(\"Y_train.pickle\", \"rb\"))\n",
    "\n",
    "X_val = pickle.load(open(\"X_val.pickle\", \"rb\"))\n",
    "Y_val = pickle.load(open(\"Y_val.pickle\", \"rb\"))\n",
    "\n",
    "X_test = pickle.load(open(\"X_test.pickle\", \"rb\"))\n",
    "Y_test = pickle.load(open(\"Y_test.pickle\", \"rb\"))"
   ]
  },
  {
   "cell_type": "code",
   "execution_count": 3,
   "id": "40c2e67a",
   "metadata": {},
   "outputs": [],
   "source": [
    "base_model = tf.keras.applications.mobilenet_v2.MobileNetV2(\n",
    "    include_top=False,\n",
    "    weights=\"imagenet\",\n",
    "    input_shape=(128,128,3),\n",
    "    pooling=\"max\"\n",
    ")"
   ]
  },
  {
   "cell_type": "code",
   "execution_count": 4,
   "id": "f44e1365",
   "metadata": {},
   "outputs": [],
   "source": [
    "for layer in base_model.layers:\n",
    "    layer.trainable = False"
   ]
  },
  {
   "cell_type": "code",
   "execution_count": 9,
   "id": "139ef19a",
   "metadata": {},
   "outputs": [],
   "source": [
    "x = tf.keras.layers.Flatten()(base_model.output)\n",
    "for _ in range(5):\n",
    "    x = tf.keras.layers.Dense(1024, activation=\"relu\")(x)\n",
    "    x = tf.keras.layers.Dropout(0.5)(x)\n",
    "predictions = tf.keras.layers.Dense(1, activation=\"sigmoid\")(x)\n",
    " "
   ]
  },
  {
   "cell_type": "code",
   "execution_count": 10,
   "id": "6f318469",
   "metadata": {},
   "outputs": [],
   "source": [
    "head_model = tf.keras.Model(inputs=base_model.inputs, outputs=predictions)"
   ]
  },
  {
   "cell_type": "code",
   "execution_count": 11,
   "id": "213c64f1",
   "metadata": {},
   "outputs": [],
   "source": [
    "head_model.compile(\n",
    "    optimizer=\"adam\",\n",
    "    loss=\"binary_crossentropy\",\n",
    "    metrics=[\"accuracy\"]\n",
    ")"
   ]
  },
  {
   "cell_type": "code",
   "execution_count": 12,
   "id": "e9a0da34",
   "metadata": {},
   "outputs": [
    {
     "name": "stdout",
     "output_type": "stream",
     "text": [
      "Epoch 1/25\n",
      "13/13 [==============================] - 20s 1s/step - loss: 1.6240 - accuracy: 0.5931 - val_loss: 0.3517 - val_accuracy: 0.9450\n",
      "Epoch 2/25\n",
      "13/13 [==============================] - 15s 1s/step - loss: 0.3257 - accuracy: 0.8712 - val_loss: 0.1078 - val_accuracy: 0.9600\n",
      "Epoch 3/25\n",
      "13/13 [==============================] - 15s 1s/step - loss: 0.1655 - accuracy: 0.9344 - val_loss: 0.0941 - val_accuracy: 0.9650\n",
      "Epoch 4/25\n",
      "13/13 [==============================] - 15s 1s/step - loss: 0.1401 - accuracy: 0.9481 - val_loss: 0.0903 - val_accuracy: 0.9750\n",
      "Epoch 5/25\n",
      "13/13 [==============================] - 17s 1s/step - loss: 0.1240 - accuracy: 0.9481 - val_loss: 0.1065 - val_accuracy: 0.9600\n",
      "Epoch 6/25\n",
      "13/13 [==============================] - 16s 1s/step - loss: 0.0927 - accuracy: 0.9656 - val_loss: 0.0676 - val_accuracy: 0.9750\n",
      "Epoch 7/25\n",
      "13/13 [==============================] - 16s 1s/step - loss: 0.0933 - accuracy: 0.9644 - val_loss: 0.0556 - val_accuracy: 0.9900\n",
      "Epoch 8/25\n",
      "13/13 [==============================] - 16s 1s/step - loss: 0.0701 - accuracy: 0.9675 - val_loss: 0.0396 - val_accuracy: 1.0000\n",
      "Epoch 9/25\n",
      "13/13 [==============================] - 15s 1s/step - loss: 0.0707 - accuracy: 0.9694 - val_loss: 0.0588 - val_accuracy: 0.9850\n",
      "Epoch 10/25\n",
      "13/13 [==============================] - 16s 1s/step - loss: 0.0628 - accuracy: 0.9769 - val_loss: 0.0200 - val_accuracy: 0.9900\n",
      "Epoch 11/25\n",
      "13/13 [==============================] - 16s 1s/step - loss: 0.0454 - accuracy: 0.9825 - val_loss: 0.0233 - val_accuracy: 0.9950\n",
      "Epoch 12/25\n",
      "13/13 [==============================] - 17s 1s/step - loss: 0.0405 - accuracy: 0.9825 - val_loss: 0.0114 - val_accuracy: 1.0000\n",
      "Epoch 13/25\n",
      "13/13 [==============================] - 15s 1s/step - loss: 0.0436 - accuracy: 0.9837 - val_loss: 0.0112 - val_accuracy: 1.0000\n",
      "Epoch 14/25\n",
      "13/13 [==============================] - 15s 1s/step - loss: 0.0427 - accuracy: 0.9850 - val_loss: 0.0086 - val_accuracy: 0.9950\n",
      "Epoch 15/25\n",
      "13/13 [==============================] - 16s 1s/step - loss: 0.0287 - accuracy: 0.9887 - val_loss: 0.0118 - val_accuracy: 0.9950\n",
      "Epoch 16/25\n",
      "13/13 [==============================] - 16s 1s/step - loss: 0.0265 - accuracy: 0.9894 - val_loss: 0.0045 - val_accuracy: 1.0000\n",
      "Epoch 17/25\n",
      "13/13 [==============================] - 15s 1s/step - loss: 0.0198 - accuracy: 0.9912 - val_loss: 0.0013 - val_accuracy: 1.0000\n",
      "Epoch 18/25\n",
      "13/13 [==============================] - 16s 1s/step - loss: 0.0249 - accuracy: 0.9912 - val_loss: 0.0026 - val_accuracy: 1.0000\n",
      "Epoch 19/25\n",
      "13/13 [==============================] - 15s 1s/step - loss: 0.0143 - accuracy: 0.9950 - val_loss: 0.0041 - val_accuracy: 1.0000\n",
      "Epoch 20/25\n",
      "13/13 [==============================] - 14s 1s/step - loss: 0.0263 - accuracy: 0.9912 - val_loss: 0.0153 - val_accuracy: 0.9900\n",
      "Epoch 21/25\n",
      "13/13 [==============================] - 15s 1s/step - loss: 0.0447 - accuracy: 0.9856 - val_loss: 0.0058 - val_accuracy: 1.0000\n",
      "Epoch 22/25\n",
      "13/13 [==============================] - 15s 1s/step - loss: 0.0250 - accuracy: 0.9912 - val_loss: 0.0225 - val_accuracy: 0.9900\n",
      "Epoch 23/25\n",
      "13/13 [==============================] - 15s 1s/step - loss: 0.0352 - accuracy: 0.9875 - val_loss: 0.0082 - val_accuracy: 1.0000\n",
      "Epoch 24/25\n",
      "13/13 [==============================] - 14s 1s/step - loss: 0.0292 - accuracy: 0.9881 - val_loss: 0.0151 - val_accuracy: 0.9950\n",
      "Epoch 25/25\n",
      "13/13 [==============================] - 14s 1s/step - loss: 0.0321 - accuracy: 0.9875 - val_loss: 0.0277 - val_accuracy: 0.9900\n"
     ]
    }
   ],
   "source": [
    "history = head_model.fit(\n",
    "    X_train,\n",
    "    Y_train,\n",
    "    batch_size=128,\n",
    "    epochs=25,\n",
    "    validation_data=(X_val, Y_val)\n",
    ")"
   ]
  },
  {
   "cell_type": "code",
   "execution_count": 18,
   "id": "fbf20852",
   "metadata": {},
   "outputs": [
    {
     "data": {
      "text/plain": [
       "['loss', 'accuracy']"
      ]
     },
     "execution_count": 18,
     "metadata": {},
     "output_type": "execute_result"
    }
   ],
   "source": [
    "head_model.metrics_names"
   ]
  },
  {
   "cell_type": "code",
   "execution_count": 19,
   "id": "763ddc94",
   "metadata": {},
   "outputs": [
    {
     "name": "stdout",
     "output_type": "stream",
     "text": [
      "7/7 [==============================] - 2s 243ms/step - loss: 0.0277 - accuracy: 0.9900\n"
     ]
    },
    {
     "data": {
      "text/plain": [
       "[0.027692411094903946, 0.9900000095367432]"
      ]
     },
     "execution_count": 19,
     "metadata": {},
     "output_type": "execute_result"
    }
   ],
   "source": [
    "head_model.evaluate(X_test, Y_test)"
   ]
  },
  {
   "cell_type": "code",
   "execution_count": 21,
   "id": "ccf96553",
   "metadata": {},
   "outputs": [
    {
     "data": {
      "image/png": "[encoded data removed]",
      "text/plain": [
       "<Figure size 432x288 with 1 Axes>"
      ]
     },
     "metadata": {
      "needs_background": "light"
     },
     "output_type": "display_data"
    }
   ],
   "source": [
    "plt.plot(history.history[\"loss\"], label=\"Train\")\n",
    "plt.plot(history.history[\"val_loss\"], label=\"Validation\")\n",
    "\n",
    "plt.xlabel(\"Epochs\")\n",
    "plt.ylabel(\"loss\")\n",
    "\n",
    "plt.legend()\n",
    "plt.show()"
   ]
  },
  {
   "cell_type": "code",
   "execution_count": 22,
   "id": "92afe007",
   "metadata": {},
   "outputs": [
    {
     "data": {
      "image/png": "[encoded data removed]",
      "text/plain": [
       "<Figure size 432x288 with 1 Axes>"
      ]
     },
     "metadata": {
      "needs_background": "light"
     },
     "output_type": "display_data"
    }
   ],
   "source": [
    "plt.plot(history.history[\"accuracy\"], label=\"Train\")\n",
    "plt.plot(history.history[\"val_loss\"], label=\"Validation\")\n",
    "\n",
    "plt.xlabel(\"Epochs\")\n",
    "plt.ylabel(\"Accuracy\")\n",
    "\n",
    "plt.legend()\n",
    "plt.show()"
   ]
  },
  {
   "cell_type": "code",
   "execution_count": null,
   "id": "46d53bf2",
   "metadata": {},
   "outputs": [],
   "source": []
  },
  {
   "cell_type": "code",
   "execution_count": 25,
   "id": "3b9461d1",
   "metadata": {},
   "outputs": [
    {
     "name": "stdout",
     "output_type": "stream",
     "text": [
      "INFO:tensorflow:Assets written to: traning_model\\assets\n"
     ]
    },
    {
     "name": "stderr",
     "output_type": "stream",
     "text": [
      "C:\\Users\\cagat\\AppData\\Roaming\\Python\\Python38\\site-packages\\keras\\engine\\functional.py:1410: CustomMaskWarning: Custom mask layers require a config and must override get_config. When loading, the custom mask layer must be passed to the custom_objects argument.\n",
      "  layer_config = serialize_layer_fn(layer)\n",
      "C:\\Users\\cagat\\AppData\\Roaming\\Python\\Python38\\site-packages\\keras\\saving\\saved_model\\layer_serialization.py:112: CustomMaskWarning: Custom mask layers require a config and must override get_config. When loading, the custom mask layer must be passed to the custom_objects argument.\n",
      "  return generic_utils.serialize_keras_object(obj)\n"
     ]
    }
   ],
   "source": [
    "head_model.save(\"traning_model\")"
   ]
  },
  {
   "cell_type": "code",
   "execution_count": null,
   "id": "8f04840a",
   "metadata": {},
   "outputs": [],
   "source": []
  }
 ],
 "metadata": {
  "kernelspec": {
   "display_name": "Python 3",
   "language": "python",
   "name": "python3"
  },
  "language_info": {
   "codemirror_mode": {
    "name": "ipython",
    "version": 3
   },
   "file_extension": ".py",
   "mimetype": "text/x-python",
   "name": "python",
   "nbconvert_exporter": "python",
   "pygments_lexer": "ipython3",
   "version": "3.8.8"
  }
 },
 "nbformat": 4,
 "nbformat_minor": 5
}
