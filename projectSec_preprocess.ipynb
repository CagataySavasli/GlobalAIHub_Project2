{
 "cells": [
  {
   "cell_type": "code",
   "execution_count": 27,
   "id": "487bc49a",
   "metadata": {},
   "outputs": [],
   "source": [
    "import cv2 as cv\n",
    "import os\n",
    "import numpy as np\n",
    "import random\n",
    "import pickle"
   ]
  },
  {
   "cell_type": "code",
   "execution_count": 2,
   "id": "f42777b6",
   "metadata": {},
   "outputs": [],
   "source": [
    "path_to_dataset = \"PetImages\"\n",
    "categories = [\"Cat\", \"Dog\"]"
   ]
  },
  {
   "cell_type": "code",
   "execution_count": 3,
   "id": "9bd3f820",
   "metadata": {},
   "outputs": [],
   "source": [
    "def normalize(x):\n",
    "    x = (x-x.min())/(x.max()-x.min())\n",
    "    return x"
   ]
  },
  {
   "cell_type": "code",
   "execution_count": 15,
   "id": "c91e3a19",
   "metadata": {},
   "outputs": [
    {
     "name": "stdout",
     "output_type": "stream",
     "text": [
      "Processed 2008 | Errors: 8"
     ]
    }
   ],
   "source": [
    "images = []\n",
    "errors_file = open(\"errors.txt\", \"a\")\n",
    "number = 0\n",
    "error = 0\n",
    "\n",
    "for categorie in categories:\n",
    "    img_per_category = 0\n",
    "    idx = categories.index(categorie)\n",
    "    for image in os.listdir(f\"{path_to_dataset}/{categorie}\"):\n",
    "        if img_per_category == 1000:\n",
    "            break\n",
    "        path_to_image = f\"{path_to_dataset}/{categorie}/{image}\"\n",
    "        \n",
    "        try:\n",
    "            img = cv.imread(path_to_image, cv.IMREAD_COLOR)\n",
    "            img = cv.resize(img, (128,128))\n",
    "            img = normalize(img)\n",
    "            images.append([img, idx])         \n",
    "            img_per_category += 1\n",
    "            \n",
    "            \n",
    "        except Exception as e:\n",
    "            error += 1\n",
    "            errors_file.write(f\"{error} | {e}\\n\")\n",
    "            \n",
    "        finally:\n",
    "            number += 1\n",
    "        print(f\"\\rProcessed {number} | Errors: {error}\", end=\"\")\n",
    "errors_file.close()"
   ]
  },
  {
   "cell_type": "code",
   "execution_count": 16,
   "id": "14b6a42a",
   "metadata": {},
   "outputs": [],
   "source": [
    "for _ in range(10):\n",
    "    random.shuffle(images)"
   ]
  },
  {
   "cell_type": "code",
   "execution_count": 23,
   "id": "e6c9140d",
   "metadata": {},
   "outputs": [
    {
     "data": {
      "text/plain": [
       "(0, 8)"
      ]
     },
     "execution_count": 23,
     "metadata": {},
     "output_type": "execute_result"
    }
   ],
   "source": [
    "x = []\n",
    "y = []\n",
    "\n",
    "for image, idx in images:\n",
    "    x.append(image)\n",
    "    y.append(idx)\n"
   ]
  },
  {
   "cell_type": "code",
   "execution_count": 28,
   "id": "e76fc920",
   "metadata": {},
   "outputs": [],
   "source": [
    "X_train = np.array(x[:int(len(x)*0.8)])\n",
    "Y_train = np.array(y[:int(len(y)*0.8)])\n",
    "\n",
    "X_val = np.array(x[:int(len(x)*0.1)])\n",
    "Y_val = np.array(y[:int(len(y)*0.1)])\n",
    "\n",
    "X_test = np.array(x[:int(len(x)*0.1)])\n",
    "Y_test = np.array(y[:int(len(y)*0.1)])"
   ]
  },
  {
   "cell_type": "code",
   "execution_count": 30,
   "id": "9d3fe527",
   "metadata": {},
   "outputs": [],
   "source": [
    "with open(\"X_train.pickle\",\"wb\") as f:\n",
    "    pickle.dump(X_train, f)\n",
    "with open(\"Y_train.pickle\",\"wb\") as f:\n",
    "    pickle.dump(Y_train, f)\n",
    "    \n",
    "with open(\"X_val.pickle\",\"wb\") as f:\n",
    "    pickle.dump(X_val, f)\n",
    "with open(\"Y_val.pickle\",\"wb\") as f:\n",
    "    pickle.dump(Y_val, f)\n",
    "    \n",
    "with open(\"X_test.pickle\",\"wb\") as f:\n",
    "    pickle.dump(X_test, f)\n",
    "with open(\"Y_test.pickle\",\"wb\") as f:\n",
    "    pickle.dump(Y_test, f)"
   ]
  },
  {
   "cell_type": "code",
   "execution_count": null,
   "id": "521addfa",
   "metadata": {},
   "outputs": [],
   "source": []
  }
 ],
 "metadata": {
  "kernelspec": {
   "display_name": "Python 3",
   "language": "python",
   "name": "python3"
  },
  "language_info": {
   "codemirror_mode": {
    "name": "ipython",
    "version": 3
   },
   "file_extension": ".py",
   "mimetype": "text/x-python",
   "name": "python",
   "nbconvert_exporter": "python",
   "pygments_lexer": "ipython3",
   "version": "3.8.8"
  }
 },
 "nbformat": 4,
 "nbformat_minor": 5
}
